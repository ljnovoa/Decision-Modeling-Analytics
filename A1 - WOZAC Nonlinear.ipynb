{
 "cells": [
  {
   "cell_type": "markdown",
   "metadata": {},
   "source": [
    "# BSAN391 - Assignment 1 - Nonlinear Approach"
   ]
  },
  {
   "cell_type": "markdown",
   "metadata": {},
   "source": [
    "Author: Luis Novoa - Fall 2019\n",
    "\n",
    "This notebook shows how to implement and solve the Wozac planning problem using a Nonlinear approach using Python/scipy"
   ]
  },
  {
   "cell_type": "code",
   "execution_count": 92,
   "metadata": {},
   "outputs": [],
   "source": [
    "# Libraries imports\n",
    "import numpy as np\n",
    "from scipy.optimize import minimize\n",
    "import matplotlib.pyplot as plt"
   ]
  },
  {
   "cell_type": "code",
   "execution_count": 93,
   "metadata": {},
   "outputs": [],
   "source": [
    "# Parameters\n",
    "d = 50000       # Current Demand\n",
    "g = 1.05        # Annual growth in demand\n",
    "b = 16          # Unit building capacity cost\n",
    "s = 3           # Unit selling price\n",
    "p = 0.2         # Unit production cost\n",
    "c = 0.4         # Unit capacity operating cost\n",
    "N = 10          # Number of time periods\n",
    "\n",
    "x0 = 1000       # For initializing the nonlinear optimization method"
   ]
  },
  {
   "cell_type": "markdown",
   "metadata": {},
   "source": [
    "The profit over $N$ periods, as a function of the capacity to build ${\\color{red}x}$, can be written as: \n",
    "\n",
    "$$\\text{profit}({\\color{red}x})=\\sum_{t=0}^{N-1}(s-p)\\min({\\color{red}x},dg^{t})-{\\color{red}x}(b+Nc).$$\n",
    "\n",
    "We define this function in Python as follows:"
   ]
  },
  {
   "cell_type": "code",
   "execution_count": 94,
   "metadata": {},
   "outputs": [],
   "source": [
    "# Profit Nonlinear Function\n",
    "def profit(x):\n",
    "    return -1*(sum((s-p)*min(x,d*(g**t)) for t in range(N)) - x*(b + N*c))"
   ]
  },
  {
   "cell_type": "markdown",
   "metadata": {},
   "source": [
    "Note that the function above returns the negative of the profit, as the method below minimizes by default:"
   ]
  },
  {
   "cell_type": "code",
   "execution_count": 95,
   "metadata": {},
   "outputs": [],
   "source": [
    "# Optimization Method                            \n",
    "optimization = minimize(profit, x0, method='nelder-mead', options={'xtol': 1e-8, 'disp': False})"
   ]
  },
  {
   "cell_type": "code",
   "execution_count": 96,
   "metadata": {},
   "outputs": [
    {
     "name": "stdout",
     "output_type": "stream",
     "text": [
      "Maximum Profit (profit(x*)): $419300.0\n",
      "Optimal Capacity to Build (x*): 55125.0\n"
     ]
    }
   ],
   "source": [
    "# Results Display\n",
    "print (\"Maximum Profit (profit(x*)):\", \"$\"+str(-1*profit(optimization.x[0])))\n",
    "print (\"Optimal Capacity to Build (x*):\", optimization.x[0])"
   ]
  },
  {
   "cell_type": "code",
   "execution_count": 97,
   "metadata": {},
   "outputs": [
    {
     "data": {
      "image/png": "[encoded data removed]",
      "text/plain": [
       "<Figure size 432x288 with 1 Axes>"
      ]
     },
     "metadata": {
      "needs_background": "light"
     },
     "output_type": "display_data"
    }
   ],
   "source": [
    "# Plot\n",
    "r = [i for i in range(40000,85000,1000)]\n",
    "plt.plot(r, [-profit(j) for j in r], '-')\n",
    "plt.plot([optimization.x[0],optimization.x[0]],[0,-1*profit(optimization.x[0])])\n",
    "plt.xlabel('Capacity to Build')\n",
    "plt.ylabel('Profit')\n",
    "plt.show()"
   ]
  },
  {
   "cell_type": "markdown",
   "metadata": {},
   "source": [
    "# EXECUTIVE SUMMARY:\n",
    "\n",
    "Wozac's maximum possible 10-year profit is $419,300, which it realizes by building a plant\n",
    "capable of manufacturing 55,125 units of Wozac per year.  \n",
    "\n",
    "-- This means that the plant will be producing to capacity in each of Years 3 through 10.\n",
    "A larger plant would allow for greater sales, but the gain in revenues is more than counterbalanced\n",
    "by the cost of building and maintaining the additional capacity.\n",
    "\n",
    "-- The optimal plant size is 55,125 units of annual capacity. This was found by maximizing the nonlinear profit function. See the plot above.\n",
    "\n",
    "-- The model makes a number of assumptions which may be suspect in the real world.  First, it assumes\n",
    "a constant percentage growth rate in the demand for Wozac over the upcoming ten years.  This is unlikely\n",
    "to be even approximately true, but cannnot be literally true, since it would result in a demand of a\n",
    "fractional number of units in some years.  This fractional demand issue does not cause problems with our\n",
    "optimal solution since demand is a whole number during the first two years, and after that the level of production is limited by capacity, not demand.\n",
    "\n",
    "-- The model ignores taxes, the inclusion of which would suggest that the firm might wish to depreciate\n",
    "the factory's construction cost over the ten years.  It assumes a 0% discount rate, so that NPV calculations\n",
    "were not needed.  It also assumes that the 10-year time horizon is all that is of interest, so that the value\n",
    "of the factory itself (or further business) is ignored.\n",
    "\n",
    "-- Since no storage costs were mentioned, we assume that carrying inventory from year to year is impossible.\n",
    "This assumption may be reasonable if Wozac is perishable, as many drugs are.\n"
   ]
  }
 ],
 "metadata": {
  "kernelspec": {
   "display_name": "Python 3",
   "language": "python",
   "name": "python3"
  },
  "language_info": {
   "codemirror_mode": {
    "name": "ipython",
    "version": 3
   },
   "file_extension": ".py",
   "mimetype": "text/x-python",
   "name": "python",
   "nbconvert_exporter": "python",
   "pygments_lexer": "ipython3",
   "version": "3.7.0"
  }
 },
 "nbformat": 4,
 "nbformat_minor": 2
}
