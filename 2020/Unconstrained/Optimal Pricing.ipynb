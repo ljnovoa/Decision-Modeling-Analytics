{
 "cells": [
  {
   "cell_type": "markdown",
   "metadata": {},
   "source": [
    "# BSAN391 - Optimal Pricing"
   ]
  },
  {
   "cell_type": "code",
   "execution_count": 1,
   "metadata": {},
   "outputs": [],
   "source": [
    "# Libraries imports\n",
    "import numpy as np\n",
    "from scipy.optimize import minimize\n",
    "import matplotlib.pyplot as plt"
   ]
  },
  {
   "cell_type": "code",
   "execution_count": 2,
   "metadata": {},
   "outputs": [],
   "source": [
    "# Parameters\n",
    "x0 = 200       # For initializing the nonlinear optimization method"
   ]
  },
  {
   "cell_type": "markdown",
   "metadata": {},
   "source": [
    "The profit as a function of the price $p$ can be written as: \n",
    "\n",
    "$$\\text{profit}({\\color{red}p})=-80{\\color{red}p}^{2}+26000{\\color{red}p}-2000000$$\n",
    "\n",
    "We define this function in Python as follows:"
   ]
  },
  {
   "cell_type": "code",
   "execution_count": 3,
   "metadata": {},
   "outputs": [],
   "source": [
    "# Profit Quadratic Function\n",
    "def profit(p):\n",
    "    return -1*(-80*p**2+26000*p-2000000)"
   ]
  },
  {
   "cell_type": "markdown",
   "metadata": {},
   "source": [
    "Note that the function above returns the negative of the profit, as the method below minimizes by default:"
   ]
  },
  {
   "cell_type": "code",
   "execution_count": 4,
   "metadata": {},
   "outputs": [],
   "source": [
    "# Optimization Method                            \n",
    "optimization = minimize(profit, x0, method='Nelder-Mead', options={'xtol': 1e-8, 'disp': False})"
   ]
  },
  {
   "cell_type": "markdown",
   "metadata": {},
   "source": [
    "The Nealder-Mead method searches without the use of derivatives, instead it maintains an ensemble of solutions ranked by solution quality"
   ]
  },
  {
   "cell_type": "code",
   "execution_count": 5,
   "metadata": {},
   "outputs": [
    {
     "name": "stdout",
     "output_type": "stream",
     "text": [
      "Optimal Price: $162.5\n",
      "Maximum Profit: $112500.0\n"
     ]
    }
   ],
   "source": [
    "# Results Display\n",
    "print (\"Optimal Price:\", \"$\"+str(optimization.x[0]))\n",
    "print (\"Maximum Profit:\", \"$\"+str(-1*profit(optimization.x[0])))"
   ]
  },
  {
   "cell_type": "code",
   "execution_count": 6,
   "metadata": {},
   "outputs": [
    {
     "data": {
      "image/png": "[encoded data removed]",
      "text/plain": [
       "<Figure size 432x288 with 1 Axes>"
      ]
     },
     "metadata": {
      "needs_background": "light"
     },
     "output_type": "display_data"
    }
   ],
   "source": [
    "# Plot\n",
    "r = [i for i in range(80,241,1)]\n",
    "plt.plot(r, [-profit(j) for j in r])\n",
    "plt.xlabel('Price')\n",
    "plt.ylabel('Profit')\n",
    "plt.show()"
   ]
  },
  {
   "cell_type": "code",
   "execution_count": null,
   "metadata": {},
   "outputs": [],
   "source": []
  }
 ],
 "metadata": {
  "kernelspec": {
   "display_name": "Python 3",
   "language": "python",
   "name": "python3"
  },
  "language_info": {
   "codemirror_mode": {
    "name": "ipython",
    "version": 3
   },
   "file_extension": ".py",
   "mimetype": "text/x-python",
   "name": "python",
   "nbconvert_exporter": "python",
   "pygments_lexer": "ipython3",
   "version": "3.7.6"
  }
 },
 "nbformat": 4,
 "nbformat_minor": 2
}
