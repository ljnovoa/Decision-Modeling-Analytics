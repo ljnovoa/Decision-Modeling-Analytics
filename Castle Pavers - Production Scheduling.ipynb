{
 "cells": [
  {
   "cell_type": "markdown",
   "metadata": {},
   "source": [
    "# Castle Pavers - Production Scheduling"
   ]
  },
  {
   "cell_type": "code",
   "execution_count": 1,
   "metadata": {},
   "outputs": [],
   "source": [
    "from pulp import *"
   ]
  },
  {
   "cell_type": "code",
   "execution_count": 2,
   "metadata": {},
   "outputs": [],
   "source": [
    "NumMonths = 3\n",
    "Months = [t+1 for t in range(NumMonths)]"
   ]
  },
  {
   "cell_type": "code",
   "execution_count": 3,
   "metadata": {},
   "outputs": [],
   "source": [
    "StoneType = ['Colonial', 'Modern']\n",
    "InitialInventory = {'Colonial': 0, 'Modern': 0}"
   ]
  },
  {
   "cell_type": "code",
   "execution_count": 4,
   "metadata": {},
   "outputs": [],
   "source": [
    "Demand = {('Colonial',1): 40, ('Colonial',2): 30, ('Colonial',3): 20,\n",
    "          ('Modern',1): 20, ('Modern',2): 30, ('Modern',3): 10}\n",
    "ProdCost = {('Colonial',1): 300, ('Colonial',2): 340, ('Colonial',3): 380,\n",
    "          ('Modern',1): 250, ('Modern',2): 280, ('Modern',3): 340}\n",
    "InvCost = {'Colonial':50, 'Modern':40}\n",
    "Capacity = 65"
   ]
  },
  {
   "cell_type": "code",
   "execution_count": 5,
   "metadata": {},
   "outputs": [],
   "source": [
    "Prob = LpProblem(\"Castle Pavers\", LpMinimize)"
   ]
  },
  {
   "cell_type": "code",
   "execution_count": 6,
   "metadata": {},
   "outputs": [],
   "source": [
    "Production = LpVariable.dicts(\"Production\",(StoneType,Months),0)\n",
    "Inventory  = LpVariable.dicts(\"Inventory\" ,(StoneType,Months),0)"
   ]
  },
  {
   "cell_type": "code",
   "execution_count": 7,
   "metadata": {},
   "outputs": [],
   "source": [
    "Prob += lpSum([ProdCost[(i,t)]*Production[i][t] + InvCost[i]*Inventory[i][t] for i in StoneType for t in Months]), \"Total Cost\"\n",
    "\n",
    "AllMonthsButTheFirst = Months[1:NumMonths]\n",
    "for i in StoneType:\n",
    "    Prob += lpSum([InitialInventory[i] + Production[i][1] - Inventory[i][1]]) == Demand[(i,1)], \"Balance_\\%s_1\"%i\n",
    "    for t in AllMonthsButTheFirst:\n",
    "        Prob += lpSum([Inventory[i][t-1] + Production[i][t] - Inventory[i][t]]) == Demand[(i,t)], \"Balance_%s_\\%s\"%(i,t)\n",
    "        \n",
    "for t in Months:\n",
    "    Prob += lpSum([Production[i][t] for i in StoneType]) <= Capacity, \"Production_Capacity_%s\"%t"
   ]
  },
  {
   "cell_type": "code",
   "execution_count": 8,
   "metadata": {},
   "outputs": [
    {
     "name": "stdout",
     "output_type": "stream",
     "text": [
      "Status: Optimal\n"
     ]
    }
   ],
   "source": [
    "Prob.writeLP(\"CastlePavers.lp\")\n",
    "Prob.solve()\n",
    "print(\"Status:\", LpStatus[Prob.status])"
   ]
  },
  {
   "cell_type": "code",
   "execution_count": 9,
   "metadata": {},
   "outputs": [
    {
     "name": "stdout",
     "output_type": "stream",
     "text": [
      "Inventory_Colonial_1* = 5.0\n",
      "Inventory_Colonial_2* = 0.0\n",
      "Inventory_Colonial_3* = 0.0\n",
      "Inventory_Modern_1* = 0.0\n",
      "Inventory_Modern_2* = 10.0\n",
      "Inventory_Modern_3* = 0.0\n",
      "Production_Colonial_1* = 45.0\n",
      "Production_Colonial_2* = 25.0\n",
      "Production_Colonial_3* = 20.0\n",
      "Production_Modern_1* = 20.0\n",
      "Production_Modern_2* = 40.0\n",
      "Production_Modern_3* = 0.0\n",
      "Optimal Cost= $46450.0\n"
     ]
    }
   ],
   "source": [
    "for variable in Prob.variables():\n",
    "    print (\"{}* = {}\".format(variable.name, variable.varValue))\n",
    "\n",
    "print(\"Optimal Cost=\", \"$\"+ str(value(Prob.objective)))"
   ]
  }
 ],
 "metadata": {
  "kernelspec": {
   "display_name": "Python 3",
   "language": "python",
   "name": "python3"
  },
  "language_info": {
   "codemirror_mode": {
    "name": "ipython",
    "version": 3
   },
   "file_extension": ".py",
   "mimetype": "text/x-python",
   "name": "python",
   "nbconvert_exporter": "python",
   "pygments_lexer": "ipython3",
   "version": "3.7.0"
  }
 },
 "nbformat": 4,
 "nbformat_minor": 2
}
