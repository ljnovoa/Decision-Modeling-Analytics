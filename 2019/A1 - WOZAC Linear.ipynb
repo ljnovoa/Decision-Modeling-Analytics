{
 "cells": [
  {
   "cell_type": "markdown",
   "metadata": {},
   "source": [
    "# BSAN391 - Assignment 1 - Linear Approach"
   ]
  },
  {
   "cell_type": "markdown",
   "metadata": {},
   "source": [
    "Author: Luis Novoa - Fall 2019\n",
    "\n",
    "This notebook shows how to implement and solve the Wozac planning problem using a Linear Programming approach using Python/PuLP.\n",
    "\n",
    "The algebraic formulation corresponding to Wozac's LP is presented below. Decision variables ${\\color{red}y_{t}}$ represent the number of units to produce in period $t$, while decision variable ${\\color{red}x}$ represents the capacity to build.\n",
    "(Note that periods are numbered from 0 to $N-1$ to match python numbering from 0)\n",
    "\n",
    "\\begin{equation*}\n",
    "\\begin{aligned}\n",
    "& {\\text{maximize}}\n",
    "& & \\sum_{t=0}^{N-1}(s-p){\\color{red}y_{t}} - {\\color{red}x}(b+Nc) & \\color{blue}{\\longrightarrow \\textbf{Profit Maximization (1)}}\\\\[2mm]\n",
    "& \\text{subject to}&&\\\\[2mm]\n",
    "& & & {\\color{red}y_{t}}  \\leq  dg^{t-1}, \\text{ for } t=0, \\ldots , N-1 & \\color{blue}{\\longrightarrow \\textbf{Each year production $\\leq$ demand (2)}}\\\\[2mm]\n",
    "& & & 0 \\leq {\\color{red}y_{t}}  \\leq  {\\color{red}x}, \\text{ for } t=0, \\ldots , N-1 & \\color{blue}{\\longrightarrow \\textbf{Each year production $\\leq$ capacity to build (3)}}\\\\[2mm]\n",
    "& & & {\\color{red}x}  \\geq  0\\\\[2mm]\n",
    "\\end{aligned}\n",
    "\\end{equation*}"
   ]
  },
  {
   "cell_type": "code",
   "execution_count": 1,
   "metadata": {},
   "outputs": [],
   "source": [
    "# Libraries imports\n",
    "from pulp import *\n",
    "import matplotlib.pyplot as plt"
   ]
  },
  {
   "cell_type": "code",
   "execution_count": 2,
   "metadata": {},
   "outputs": [],
   "source": [
    "# Parameters\n",
    "d = 50000       # Current Demand\n",
    "g = 1.05        # Annual growth in demand\n",
    "b = 16          # Unit building capacity cost\n",
    "s = 3           # Unit selling price\n",
    "p = 0.2         # Unit production cost\n",
    "c = 0.4         # Unit capacity operating cost\n",
    "N = 10          # Number of time periods"
   ]
  },
  {
   "cell_type": "code",
   "execution_count": 3,
   "metadata": {},
   "outputs": [],
   "source": [
    "# Problem object definition in PuLP\n",
    "prob = LpProblem(\"Wozac LP\", LpMaximize)"
   ]
  },
  {
   "cell_type": "code",
   "execution_count": 4,
   "metadata": {},
   "outputs": [],
   "source": [
    "# Decision Variables (note that nonnegativity constraints are defined here - last 0)\n",
    "y = LpVariable.matrix(\"UnitsProduced\", list(range(N)), 0)\n",
    "x = LpVariable(\"CapacityBuilt\", 0)"
   ]
  },
  {
   "cell_type": "code",
   "execution_count": 5,
   "metadata": {},
   "outputs": [],
   "source": [
    "# First set of constraints (see (2) in the algebraic formulation above)\n",
    "for t in range(N):\n",
    "    prob += y[t] <= d*(g**t)"
   ]
  },
  {
   "cell_type": "code",
   "execution_count": 6,
   "metadata": {},
   "outputs": [],
   "source": [
    "# Second set of constraints (see (3) in the algebraic formulation above)\n",
    "for t in range(N):\n",
    "    prob += y[t] <= x"
   ]
  },
  {
   "cell_type": "code",
   "execution_count": 7,
   "metadata": {},
   "outputs": [],
   "source": [
    "# # Objective Function (see (1) in the algebraic formulation above). \n",
    "prob += sum((s-p)*y[t] for t in range(N)) - x*(b + N*c), \"profit\""
   ]
  },
  {
   "cell_type": "markdown",
   "metadata": {},
   "source": [
    "Note that PuLP recognizes this as the Objective as there is no equation or inequality"
   ]
  },
  {
   "cell_type": "code",
   "execution_count": 8,
   "metadata": {},
   "outputs": [
    {
     "name": "stdout",
     "output_type": "stream",
     "text": [
      "Status: Optimal\n"
     ]
    }
   ],
   "source": [
    "# Here we invoke the default solver to solve the LP and we print the status\n",
    "prob.solve()\n",
    "print(\"Status:\", LpStatus[prob.status])"
   ]
  },
  {
   "cell_type": "code",
   "execution_count": 9,
   "metadata": {},
   "outputs": [
    {
     "name": "stdout",
     "output_type": "stream",
     "text": [
      "CapacityBuilt* = 55125.0\n",
      "UnitsProduced_0* = 50000.0\n",
      "UnitsProduced_1* = 52500.0\n",
      "UnitsProduced_2* = 55125.0\n",
      "UnitsProduced_3* = 55125.0\n",
      "UnitsProduced_4* = 55125.0\n",
      "UnitsProduced_5* = 55125.0\n",
      "UnitsProduced_6* = 55125.0\n",
      "UnitsProduced_7* = 55125.0\n",
      "UnitsProduced_8* = 55125.0\n",
      "UnitsProduced_9* = 55125.0\n"
     ]
    }
   ],
   "source": [
    "# Print Optimal Solution\n",
    "for variable in prob.variables():\n",
    "    print (\"{}* = {}\".format(variable.name, variable.varValue))"
   ]
  },
  {
   "cell_type": "code",
   "execution_count": 10,
   "metadata": {},
   "outputs": [
    {
     "name": "stdout",
     "output_type": "stream",
     "text": [
      "Optimal Profit= $419300.0\n"
     ]
    }
   ],
   "source": [
    "# Print Optimal Objective Function value\n",
    "print(\"Optimal Profit=\", \"$\"+ str(value(prob.objective)))"
   ]
  }
 ],
 "metadata": {
  "kernelspec": {
   "display_name": "Python 3",
   "language": "python",
   "name": "python3"
  },
  "language_info": {
   "codemirror_mode": {
    "name": "ipython",
    "version": 3
   },
   "file_extension": ".py",
   "mimetype": "text/x-python",
   "name": "python",
   "nbconvert_exporter": "python",
   "pygments_lexer": "ipython3",
   "version": "3.7.0"
  }
 },
 "nbformat": 4,
 "nbformat_minor": 2
}
